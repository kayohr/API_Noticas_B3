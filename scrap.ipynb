{
 "cells": [
  {
   "cell_type": "code",
   "execution_count": null,
   "metadata": {},
   "outputs": [],
   "source": []
  },
  {
   "cell_type": "code",
   "execution_count": 1,
   "metadata": {},
   "outputs": [
    {
     "name": "stdout",
     "output_type": "stream",
     "text": [
      " * Serving Flask app '__main__'\n",
      " * Debug mode: off\n"
     ]
    },
    {
     "name": "stderr",
     "output_type": "stream",
     "text": [
      "INFO:werkzeug:\u001b[31m\u001b[1mWARNING: This is a development server. Do not use it in a production deployment. Use a production WSGI server instead.\u001b[0m\n",
      " * Running on all addresses (0.0.0.0)\n",
      " * Running on http://127.0.0.1:5005\n",
      " * Running on http://192.168.100.8:5005\n",
      "INFO:werkzeug:\u001b[33mPress CTRL+C to quit\u001b[0m\n",
      "INFO:werkzeug:127.0.0.1 - - [10/Jun/2024 12:40:08] \"GET /scrape HTTP/1.1\" 200 -\n"
     ]
    },
    {
     "name": "stdout",
     "output_type": "stream",
     "text": [
      "{'message': 'News scraped and saved successfully', 'news': [{'link': 'https://www.spacemoney.com.br/investimentos/acoes/oi-oibr3-oibr4-executivos-renunciam-conselho-comites-estrategicos/209416/', 'title': 'Ações\\nOi (OIBR3)(OIBR4): 4 executivos renunciam cargos no Conselho de Administração e comitês estratégicos\\nEmpresa ainda não divulgou quem substituirá os membros, nem detalhou os motivos das saídas\\n12h10 - 10 Jun 2024Por José Chacon'}, {'link': 'https://www.spacemoney.com.br/noticias/recomendacoes/as-acoes-mais-recomendadas-para-a-semana-de-10-a-14-de-junho/209415/', 'title': 'Carteiras recomendadas\\nAs ações mais recomendadas para a semana de 10 a 14 de junho\\nOs papéis de BB Seguridade (BBSE3), BRF (BRFS3) e Vale (VALE3) foram os mais citados em cinco carteiras de casas, corretoras e plataformas de análise\\n12h06 - 10 Jun 2024Por Lucas de Andrade'}, {'link': 'https://www.spacemoney.com.br/investimentos/acoes/altas-e-baixas-do-ibovespa-petrobras-petr3-petr4-prio-prio3/209414/', 'title': 'Ações\\nAltas e baixas do Ibovespa: Petrobras (PETR3)(PETR4) e Prio (PRIO3) lideram altas\\nAções da Magazine Luiza (MGLU3), por sua vez, caem 2,73%\\n11h59 - 10 Jun 2024Por Mari Galvão'}, {'link': 'https://www.spacemoney.com.br/investimentos/acoes/acoes-da-vitru-educacao-vtru3-estreiam-na-b3-e-disparam-em-16/209413/', 'title': 'Ações\\nAções da Vitru Educação (VTRU3) estreiam na B3 e disparam em 16%\\nCom a abertura das negociações no Brasil, a empresa encerra a emissão de ações pela bolsa norte-americana\\n11h52 - 10 Jun 2024Por José Chacon'}, {'link': 'https://www.spacemoney.com.br/investimentos/acoes/porto-bank-porto-pssa3-feirao-digital-negociacao-dividas-90-desconto/209412/', 'title': 'Ações\\nPorto Bank, da Porto (PSSA3), faz feirão digital para negociação de dívidas, com até 90% de desconto\\nDessa segunda-feira (10) a 21 de junho, clientes com pendências em cartão de crédito, empréstimos, financiamento, consórcio e fiança podem negociar suas dívidas com condições especiais\\n11h13 - 10 Jun 2024Por José Chacon'}]}\n"
     ]
    }
   ],
   "source": [
    "from flask import Flask, jsonify\n",
    "from threading import Thread\n",
    "import requests\n",
    "import time\n",
    "from selenium import webdriver\n",
    "from selenium.webdriver.common.by import By\n",
    "from selenium.webdriver.chrome.service import Service\n",
    "import logging\n",
    "\n",
    "# Configuração de logging\n",
    "logging.basicConfig(level=logging.INFO)\n",
    "\n",
    "# Criar a aplicação Flask\n",
    "app = Flask(__name__)\n",
    "\n",
    "@app.route('/scrape', methods=['GET'])\n",
    "def scrape_and_save():\n",
    "    try:\n",
    "        url = 'https://www.spacemoney.com.br/ultimas-noticias'\n",
    "        driver.get(url)\n",
    "        news = []\n",
    "        elements = driver.find_elements(By.XPATH, '//div[@class=\"linkNoticia crop\"]')\n",
    "        for element in elements[:5]:\n",
    "            title = element.text\n",
    "            link = element.find_element(By.TAG_NAME, 'a').get_attribute('href')\n",
    "            news.append({'title': title, 'link': link})\n",
    "        return jsonify({'message': 'News scraped and saved successfully', 'news': news}), 200\n",
    "    except Exception as e:\n",
    "        logging.error(\"Erro ao raspar as notícias: %s\", e)\n",
    "        return jsonify({'message': 'Erro ao raspar as notícias'}), 500\n",
    "\n",
    "def run():\n",
    "    app.run(host='0.0.0.0', port=5005)  # Mudança para a porta 5005\n",
    "\n",
    "# Iniciar a API Flask em uma thread separada\n",
    "t = Thread(target=run)\n",
    "t.start()\n",
    "\n",
    "# Configurar o serviço do ChromeDriver\n",
    "chrome_driver_path = '/usr/bin/chromedriver'  # Substitua pelo caminho do seu ChromeDriver\n",
    "service = Service(chrome_driver_path)\n",
    "\n",
    "# Configurar as opções do Chrome\n",
    "chrome_options = webdriver.ChromeOptions()\n",
    "chrome_options.add_argument('--headless')\n",
    "chrome_options.add_argument('--no-sandbox')\n",
    "chrome_options.add_argument('--disable-dev-shm-usage')\n",
    "\n",
    "# Inicializar o WebDriver\n",
    "try:\n",
    "    driver = webdriver.Chrome(service=service, options=chrome_options)\n",
    "except Exception as e:\n",
    "    logging.error(\"Erro ao iniciar o WebDriver: %s\", e)\n",
    "    raise\n",
    "\n",
    "# Esperar alguns segundos para garantir que o WebDriver está pronto\n",
    "time.sleep(5)\n",
    "\n",
    "# Fazer uma requisição GET para a API\n",
    "try:\n",
    "    response = requests.get('http://127.0.0.1:5005/scrape')\n",
    "    response.raise_for_status()  # Levanta um erro para respostas com status 4xx/5xx\n",
    "    print(response.json())\n",
    "except requests.exceptions.RequestException as e:\n",
    "    logging.error(\"Erro ao fazer a requisição GET: %s\", e)\n",
    "\n",
    "# Fechar o driver\n",
    "driver.quit()\n",
    "\n"
   ]
  }
 ],
 "metadata": {
  "kernelspec": {
   "display_name": "Python 3",
   "language": "python",
   "name": "python3"
  },
  "language_info": {
   "codemirror_mode": {
    "name": "ipython",
    "version": 3
   },
   "file_extension": ".py",
   "mimetype": "text/x-python",
   "name": "python",
   "nbconvert_exporter": "python",
   "pygments_lexer": "ipython3",
   "version": "3.10.12"
  }
 },
 "nbformat": 4,
 "nbformat_minor": 2
}
